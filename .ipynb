{
 "cells": [
  {
   "cell_type": "code",
   "execution_count": 6,
   "id": "dcd945b9-1c17-4169-9c25-2736b1979ef9",
   "metadata": {},
   "outputs": [],
   "source": [
    "import airflow\n",
    "from airflow import DAG\n",
    "from airflow.operators.python import PythonOperator\n",
    "\n",
    "from datetime import datetime, timedelta  \n",
    "\n",
    "import scrappingBooks\n",
    "import processingBooks\n",
    "import main\n",
    "\n",
    "import warnings\n",
    "warnings.filterwarnings(\"ignore\")"
   ]
  },
  {
   "cell_type": "code",
   "execution_count": 7,
   "id": "84cddfda-094d-4d3c-83af-8ad8bc94e5fa",
   "metadata": {},
   "outputs": [
    {
     "name": "stdout",
     "output_type": "stream",
     "text": [
      "Scrapping from https://books.toscrape.com/ ...\n"
     ]
    },
    {
     "ename": "AirflowException",
     "evalue": "`python_callable` param must be callable",
     "output_type": "error",
     "traceback": [
      "\u001b[1;31m---------------------------------------------------------------------------\u001b[0m",
      "\u001b[1;31mAirflowException\u001b[0m                          Traceback (most recent call last)",
      "\u001b[1;32m~\\AppData\\Local\\Temp/ipykernel_11608/1898361409.py\u001b[0m in \u001b[0;36m<module>\u001b[1;34m\u001b[0m\n\u001b[0;32m     24\u001b[0m \u001b[1;33m\u001b[0m\u001b[0m\n\u001b[0;32m     25\u001b[0m     \u001b[1;31m#tasks to scrappe new data from web source\u001b[0m\u001b[1;33m\u001b[0m\u001b[1;33m\u001b[0m\u001b[1;33m\u001b[0m\u001b[0m\n\u001b[1;32m---> 26\u001b[1;33m     t1 = PythonOperator(\n\u001b[0m\u001b[0;32m     27\u001b[0m         \u001b[0mtask_id\u001b[0m\u001b[1;33m=\u001b[0m\u001b[1;34m'scrappingBooks'\u001b[0m\u001b[1;33m,\u001b[0m\u001b[1;33m\u001b[0m\u001b[1;33m\u001b[0m\u001b[0m\n\u001b[0;32m     28\u001b[0m         \u001b[0mpython_callable\u001b[0m\u001b[1;33m=\u001b[0m \u001b[0mscrappingBooks\u001b[0m\u001b[1;33m.\u001b[0m\u001b[0mgetLinksPages\u001b[0m\u001b[1;33m(\u001b[0m\u001b[1;33m)\u001b[0m\u001b[1;33m,\u001b[0m\u001b[1;33m\u001b[0m\u001b[1;33m\u001b[0m\u001b[0m\n",
      "\u001b[1;32mD:\\anaconda3\\lib\\site-packages\\airflow\\models\\baseoperator.py\u001b[0m in \u001b[0;36mapply_defaults\u001b[1;34m(self, *args, **kwargs)\u001b[0m\n\u001b[0;32m    388\u001b[0m             \u001b[0mself\u001b[0m\u001b[1;33m.\u001b[0m\u001b[0m_BaseOperator__from_mapped\u001b[0m \u001b[1;33m=\u001b[0m \u001b[0minstantiated_from_mapped\u001b[0m\u001b[1;33m\u001b[0m\u001b[1;33m\u001b[0m\u001b[0m\n\u001b[0;32m    389\u001b[0m \u001b[1;33m\u001b[0m\u001b[0m\n\u001b[1;32m--> 390\u001b[1;33m             \u001b[0mresult\u001b[0m \u001b[1;33m=\u001b[0m \u001b[0mfunc\u001b[0m\u001b[1;33m(\u001b[0m\u001b[0mself\u001b[0m\u001b[1;33m,\u001b[0m \u001b[1;33m**\u001b[0m\u001b[0mkwargs\u001b[0m\u001b[1;33m,\u001b[0m \u001b[0mdefault_args\u001b[0m\u001b[1;33m=\u001b[0m\u001b[0mdefault_args\u001b[0m\u001b[1;33m)\u001b[0m\u001b[1;33m\u001b[0m\u001b[1;33m\u001b[0m\u001b[0m\n\u001b[0m\u001b[0;32m    391\u001b[0m \u001b[1;33m\u001b[0m\u001b[0m\n\u001b[0;32m    392\u001b[0m             \u001b[1;31m# Store the args passed to init -- we need them to support task.map serialzation!\u001b[0m\u001b[1;33m\u001b[0m\u001b[1;33m\u001b[0m\u001b[1;33m\u001b[0m\u001b[0m\n",
      "\u001b[1;32mD:\\anaconda3\\lib\\site-packages\\airflow\\operators\\python.py\u001b[0m in \u001b[0;36m__init__\u001b[1;34m(self, python_callable, op_args, op_kwargs, templates_dict, templates_exts, show_return_value_in_logs, **kwargs)\u001b[0m\n\u001b[0;32m    156\u001b[0m         \u001b[0msuper\u001b[0m\u001b[1;33m(\u001b[0m\u001b[1;33m)\u001b[0m\u001b[1;33m.\u001b[0m\u001b[0m__init__\u001b[0m\u001b[1;33m(\u001b[0m\u001b[1;33m**\u001b[0m\u001b[0mkwargs\u001b[0m\u001b[1;33m)\u001b[0m\u001b[1;33m\u001b[0m\u001b[1;33m\u001b[0m\u001b[0m\n\u001b[0;32m    157\u001b[0m         \u001b[1;32mif\u001b[0m \u001b[1;32mnot\u001b[0m \u001b[0mcallable\u001b[0m\u001b[1;33m(\u001b[0m\u001b[0mpython_callable\u001b[0m\u001b[1;33m)\u001b[0m\u001b[1;33m:\u001b[0m\u001b[1;33m\u001b[0m\u001b[1;33m\u001b[0m\u001b[0m\n\u001b[1;32m--> 158\u001b[1;33m             \u001b[1;32mraise\u001b[0m \u001b[0mAirflowException\u001b[0m\u001b[1;33m(\u001b[0m\u001b[1;34m'`python_callable` param must be callable'\u001b[0m\u001b[1;33m)\u001b[0m\u001b[1;33m\u001b[0m\u001b[1;33m\u001b[0m\u001b[0m\n\u001b[0m\u001b[0;32m    159\u001b[0m         \u001b[0mself\u001b[0m\u001b[1;33m.\u001b[0m\u001b[0mpython_callable\u001b[0m \u001b[1;33m=\u001b[0m \u001b[0mpython_callable\u001b[0m\u001b[1;33m\u001b[0m\u001b[1;33m\u001b[0m\u001b[0m\n\u001b[0;32m    160\u001b[0m         \u001b[0mself\u001b[0m\u001b[1;33m.\u001b[0m\u001b[0mop_args\u001b[0m \u001b[1;33m=\u001b[0m \u001b[0mop_args\u001b[0m \u001b[1;32mor\u001b[0m \u001b[1;33m(\u001b[0m\u001b[1;33m)\u001b[0m\u001b[1;33m\u001b[0m\u001b[1;33m\u001b[0m\u001b[0m\n",
      "\u001b[1;31mAirflowException\u001b[0m: `python_callable` param must be callable"
     ]
    }
   ],
   "source": [
    "#DAG setup\n",
    "default_args = {\n",
    "    'owner': 'airflow',\n",
    "    'depends_on_past': False,\n",
    "    # Example: Initiate at may/20/2022\n",
    "    'start_date': datetime(2022, 5, 20),\n",
    "    'email': ['lucas1613@gmail.com'],\n",
    "    'email_on_failure': False,\n",
    "    'email_on_retry': False,\n",
    "    # In case of errors, try to run again just 1 time\n",
    "    'retries': 1,\n",
    "    # Try again after 30 seconds after the error\n",
    "    'retry_delay': timedelta(seconds=30),\n",
    "    # Run once every 6 hours\n",
    "    'schedule_interval': '*/2 * * * *' #### change accordly desire interval\n",
    "}\n",
    "\n",
    "with DAG(dag_id='updateBooks', \n",
    "        default_args=default_args, \n",
    "        schedule_interval=None,\n",
    "        tags=['currency']\n",
    "        ) as dag:\n",
    "    \n",
    "    \n",
    "    #tasks to scrappe new data from web source\n",
    "    t1 = PythonOperator(\n",
    "        task_id='scrappingBooks',\n",
    "        python_callable= scrappingBooks.getLinksPages(),\n",
    "        dag=dag,\n",
    "    )\n",
    "    \n",
    "    #ler a tabela html no site\n",
    "    t2 = PythonOperator(\n",
    "        task_id='checkDatabase',\n",
    "        python_callable= processingBooks.createDatabase(),\n",
    "        dag=dag,\n",
    "    )\n",
    "\n",
    "    #aplicar transformações na tabela\n",
    "    t3 = PythonOperator(\n",
    "        task_id='transformUpdateData',\n",
    "        python_callable= processingBooks.insertData(),\n",
    "        dag=dag,\n",
    "    )\n",
    "    \n",
    "    #salvar o arquivo csv\n",
    "    t4 = PythonOperator(\n",
    "        task_id='getCopiesBooks',\n",
    "        python_callable= main.amountCopiesBooks(),\n",
    "        dag=dag,\n",
    "    )\n",
    "    \n",
    "    #dependências entre as tarefas\n",
    "    t1 >> t2 >> t3 >> t4"
   ]
  },
  {
   "cell_type": "code",
   "execution_count": 8,
   "id": "52e98578-f4e8-4673-bd38-d307b5256232",
   "metadata": {},
   "outputs": [
    {
     "ename": "ModuleNotFoundError",
     "evalue": "No module named 'pwd'",
     "output_type": "error",
     "traceback": [
      "\u001b[1;31m---------------------------------------------------------------------------\u001b[0m",
      "\u001b[1;31mModuleNotFoundError\u001b[0m                       Traceback (most recent call last)",
      "\u001b[1;32m~\\AppData\\Local\\Temp/ipykernel_11608/3822350802.py\u001b[0m in \u001b[0;36m<module>\u001b[1;34m\u001b[0m\n\u001b[1;32m----> 1\u001b[1;33m \u001b[1;32mimport\u001b[0m \u001b[0mpwd\u001b[0m\u001b[1;33m\u001b[0m\u001b[1;33m\u001b[0m\u001b[0m\n\u001b[0m",
      "\u001b[1;31mModuleNotFoundError\u001b[0m: No module named 'pwd'"
     ]
    }
   ],
   "source": []
  }
 ],
 "metadata": {
  "kernelspec": {
   "display_name": "Python 3 (ipykernel)",
   "language": "python",
   "name": "python3"
  },
  "language_info": {
   "codemirror_mode": {
    "name": "ipython",
    "version": 3
   },
   "file_extension": ".py",
   "mimetype": "text/x-python",
   "name": "python",
   "nbconvert_exporter": "python",
   "pygments_lexer": "ipython3",
   "version": "3.8.12"
  }
 },
 "nbformat": 4,
 "nbformat_minor": 5
}
