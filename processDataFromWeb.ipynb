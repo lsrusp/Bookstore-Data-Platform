{
 "cells": [
  {
   "cell_type": "code",
   "execution_count": 18,
   "id": "4685fa1a-083a-4863-8035-0614a1d581d3",
   "metadata": {},
   "outputs": [
    {
     "name": "stdout",
     "output_type": "stream",
     "text": [
      "Requirement already satisfied: selenium in c:\\users\\lsrod\\anaconda3\\lib\\site-packages (4.1.5)\n",
      "Requirement already satisfied: urllib3[secure,socks]~=1.26 in c:\\users\\lsrod\\anaconda3\\lib\\site-packages (from selenium) (1.26.6)\n",
      "Requirement already satisfied: trio-websocket~=0.9 in c:\\users\\lsrod\\anaconda3\\lib\\site-packages (from selenium) (0.9.2)\n",
      "Requirement already satisfied: trio~=0.17 in c:\\users\\lsrod\\anaconda3\\lib\\site-packages (from selenium) (0.20.0)\n",
      "Requirement already satisfied: attrs>=19.2.0 in c:\\users\\lsrod\\anaconda3\\lib\\site-packages (from trio~=0.17->selenium) (21.2.0)\n",
      "Requirement already satisfied: sortedcontainers in c:\\users\\lsrod\\anaconda3\\lib\\site-packages (from trio~=0.17->selenium) (2.4.0)\n",
      "Requirement already satisfied: sniffio in c:\\users\\lsrod\\anaconda3\\lib\\site-packages (from trio~=0.17->selenium) (1.2.0)\n",
      "Requirement already satisfied: async-generator>=1.9 in c:\\users\\lsrod\\anaconda3\\lib\\site-packages (from trio~=0.17->selenium) (1.10)\n",
      "Requirement already satisfied: outcome in c:\\users\\lsrod\\anaconda3\\lib\\site-packages (from trio~=0.17->selenium) (1.1.0)\n",
      "Requirement already satisfied: cffi>=1.14 in c:\\users\\lsrod\\anaconda3\\lib\\site-packages (from trio~=0.17->selenium) (1.14.6)\n",
      "Requirement already satisfied: idna in c:\\users\\lsrod\\anaconda3\\lib\\site-packages (from trio~=0.17->selenium) (2.10)\n",
      "Requirement already satisfied: pycparser in c:\\users\\lsrod\\anaconda3\\lib\\site-packages (from cffi>=1.14->trio~=0.17->selenium) (2.20)\n",
      "Requirement already satisfied: wsproto>=0.14 in c:\\users\\lsrod\\anaconda3\\lib\\site-packages (from trio-websocket~=0.9->selenium) (1.1.0)\n",
      "Requirement already satisfied: PySocks!=1.5.7,<2.0,>=1.5.6 in c:\\users\\lsrod\\anaconda3\\lib\\site-packages (from urllib3[secure,socks]~=1.26->selenium) (1.7.1)\n",
      "Requirement already satisfied: certifi in c:\\users\\lsrod\\anaconda3\\lib\\site-packages (from urllib3[secure,socks]~=1.26->selenium) (2021.5.30)\n",
      "Requirement already satisfied: cryptography>=1.3.4 in c:\\users\\lsrod\\anaconda3\\lib\\site-packages (from urllib3[secure,socks]~=1.26->selenium) (3.4.7)\n",
      "Requirement already satisfied: pyOpenSSL>=0.14 in c:\\users\\lsrod\\anaconda3\\lib\\site-packages (from urllib3[secure,socks]~=1.26->selenium) (20.0.1)\n",
      "Requirement already satisfied: six>=1.5.2 in c:\\users\\lsrod\\anaconda3\\lib\\site-packages (from pyOpenSSL>=0.14->urllib3[secure,socks]~=1.26->selenium) (1.16.0)\n",
      "Requirement already satisfied: h11<1,>=0.9.0 in c:\\users\\lsrod\\anaconda3\\lib\\site-packages (from wsproto>=0.14->trio-websocket~=0.9->selenium) (0.13.0)\n",
      "Requirement already satisfied: pandasql in c:\\users\\lsrod\\anaconda3\\lib\\site-packages (0.7.3)\n",
      "Requirement already satisfied: numpy in c:\\users\\lsrod\\anaconda3\\lib\\site-packages (from pandasql) (1.20.3)\n",
      "Requirement already satisfied: sqlalchemy in c:\\users\\lsrod\\anaconda3\\lib\\site-packages (from pandasql) (1.4.22)\n",
      "Requirement already satisfied: pandas in c:\\users\\lsrod\\anaconda3\\lib\\site-packages (from pandasql) (1.3.1)\n",
      "Requirement already satisfied: python-dateutil>=2.7.3 in c:\\users\\lsrod\\anaconda3\\lib\\site-packages (from pandas->pandasql) (2.8.2)\n",
      "Requirement already satisfied: pytz>=2017.3 in c:\\users\\lsrod\\anaconda3\\lib\\site-packages (from pandas->pandasql) (2021.1)\n",
      "Requirement already satisfied: six>=1.5 in c:\\users\\lsrod\\anaconda3\\lib\\site-packages (from python-dateutil>=2.7.3->pandas->pandasql) (1.16.0)\n",
      "Requirement already satisfied: greenlet!=0.4.17 in c:\\users\\lsrod\\anaconda3\\lib\\site-packages (from sqlalchemy->pandasql) (1.1.1)\n"
     ]
    }
   ],
   "source": [
    "! pip install selenium\n",
    "! pip install pandasql"
   ]
  },
  {
   "cell_type": "code",
   "execution_count": 19,
   "id": "4d41e2ee-7a09-49a0-ab95-d0060f443d6f",
   "metadata": {},
   "outputs": [],
   "source": [
    "import pandas as pd\n",
    "from glob import glob ## to search and list downloaded files\n",
    "from selenium import webdriver ## to get links and ROI pages\n",
    "from selenium.webdriver.common.by import By\n",
    "\n",
    "import numpy as np\n",
    "\n",
    "from pandasql import sqldf ## make possible to run SQL statements over pandas dataframe equally a PostgreSQL or equivalent environment\n",
    "\n",
    "import sys\n",
    "import warnings\n",
    "\n",
    "if not sys.warnoptions:\n",
    "    warnings.simplefilter(\"ignore\")"
   ]
  },
  {
   "cell_type": "markdown",
   "id": "875157d9-8f18-4c70-bdb2-2131dbbfc3ef",
   "metadata": {},
   "source": [
    "## Function to scrape data from Internet giving a URL source -> Save a txt file with all book links from URL"
   ]
  },
  {
   "cell_type": "code",
   "execution_count": 134,
   "id": "4a7b05d4-6cd2-4087-87db-50028262cf08",
   "metadata": {
    "tags": []
   },
   "outputs": [],
   "source": [
    "def getLinksPages(): # create chrome driver\n",
    "    \n",
    "    print('Scrapping from https://books.toscrape.com/ ...')\n",
    "    \n",
    "    chrome_options = webdriver.ChromeOptions()\n",
    "    chrome_options.add_argument(\"headless\")\n",
    "    chrome_options.add_argument('log-level=3')\n",
    "\n",
    "    path_to_chromedriver = \"chromedriver\"\n",
    "\n",
    "    driver = webdriver.Chrome(executable_path=path_to_chromedriver,options=chrome_options)\n",
    "\n",
    "    # go to website\n",
    "    links = open(\"./links.txt\",\"w\")\n",
    "    \n",
    "    driver.get(f\"https://books.toscrape.com/index.html\")\n",
    "    sizeItems  = int(driver.find_elements_by_xpath(f\"//body[@id='default']/div/div/div/div/form/strong[1]\")[0].text) ### get number of total itens in bookstore\n",
    "    pagNumber  = int(driver.find_elements_by_xpath(f\"//body[@id='default']/div/div/div/div/form/strong[3]\")[0].text) ### number of elements per page\n",
    "    \n",
    "    for i in range(1,int(sizeItems/pagNumber)+1):\n",
    "        driver.get(f\"https://books.toscrape.com/catalogue/page-{i}.html\")\n",
    "\n",
    "        size_of_list  = driver.find_elements_by_xpath(f\"//body[@id='default']/div/div/div/div/section/div[2]/ol/li\")\n",
    "        \n",
    "        for li in size_of_list[1:len(size_of_list)]:\n",
    "            article = li.find_elements(By.TAG_NAME, \"article\")[0]\n",
    "            h3 = article.find_element_by_xpath('.//preceding::h3[1]')\n",
    "            a = h3.find_elements(By.TAG_NAME, \"a\")\n",
    "            links.write(str(a[0].get_attribute('href'))+'\\n')\n",
    "           \n",
    "\n",
    "    links.close()\n",
    "    driver.close()"
   ]
  },
  {
   "cell_type": "markdown",
   "id": "26c5c00c-13d5-45a2-ba1b-0e18b4077f7d",
   "metadata": {},
   "source": [
    "## Data manipulation and ETL: Functions to map attributes from html files -> Return a list with all extract books information"
   ]
  },
  {
   "cell_type": "code",
   "execution_count": 135,
   "id": "028719f9-5ed2-4a5b-aed8-159b4a2e4cd4",
   "metadata": {
    "tags": []
   },
   "outputs": [],
   "source": [
    "def mapAttributesFromScraping(linksPath):\n",
    "    \n",
    "    print('Data manipulation and ETL in progress...')\n",
    "\n",
    "    links = open(linksPath,\"r\")\n",
    "    \n",
    "    chrome_options = webdriver.ChromeOptions()\n",
    "    chrome_options.add_argument(\"headless\")\n",
    "    chrome_options.add_argument('log-level=3')\n",
    "    \n",
    "    path_to_chromedriver = \"chromedriver\"\n",
    "\n",
    "    driver = webdriver.Chrome(executable_path=path_to_chromedriver,options=chrome_options)\n",
    "    \n",
    "    books = []\n",
    "\n",
    "    # go to website\n",
    "    for link in links:\n",
    "        \n",
    "        driver.get(link)\n",
    "        \n",
    "        try: title = driver.find_elements_by_xpath(\"//div[@id='content_inner']/article/div/div[2]/h1\")[0].text       \n",
    "        except: title = ''\n",
    "        \n",
    "        try: price = float(driver.find_elements_by_xpath(\"//div[@id='content_inner']/article/div/div[2]/p\")[0].text.split('£')[1])\n",
    "        except: price = 0.0\n",
    "        \n",
    "        try: stock = int(driver.find_elements_by_xpath(\"//div[@id='content_inner']/article/div/div[2]/p\")[1].text.split('In stock (')[1].split(' available)')[0])\n",
    "        except: stock = np.nan\n",
    "        \n",
    "        try: rating = driver.find_elements_by_xpath(\"//div[@id='content_inner']/article/div/div[2]/p\")[2].get_property('attributes')[0]['textContent'].split('star-rating ')[1]\n",
    "        except: rating = np.nan\n",
    "        \n",
    "        try: category = driver.find_elements_by_class_name(\"breadcrumb\")[0].text.split(' ')[2]\n",
    "        except: category = ''\n",
    "        \n",
    "        try: description = driver.find_elements_by_xpath(\"//div[@id='content_inner']/article/p\")[0].text\n",
    "        except: description = ''\n",
    "        \n",
    "        if  (rating == \"One\"):   rating = 1\n",
    "        elif(rating == \"Two\"):   rating = 2\n",
    "        elif(rating == \"Three\"): rating = 3\n",
    "        elif(rating == \"Four\"):  rating = 4\n",
    "        elif(rating == \"Five\"):  rating = 5\n",
    "\n",
    "        \n",
    "        book = [title, category, description, price, rating, stock]\n",
    "\n",
    "        if book:\n",
    "            books.append(book)\n",
    "            \n",
    "    driver.close()\n",
    "    return books"
   ]
  },
  {
   "cell_type": "markdown",
   "id": "2cd010b0-b334-4d6e-9018-a5fab3684fe8",
   "metadata": {},
   "source": [
    "## Execute scraping and ETL functions"
   ]
  },
  {
   "cell_type": "code",
   "execution_count": 129,
   "id": "cb3e0ce4-64d9-4f01-9ea1-b671b18f3245",
   "metadata": {},
   "outputs": [
    {
     "name": "stdout",
     "output_type": "stream",
     "text": [
      "Scrapping from https://books.toscrape.com/ ...\n"
     ]
    }
   ],
   "source": [
    "getLinksPages() ### function to scrapped data on demand (daily or when requested -- CRON Function)"
   ]
  },
  {
   "cell_type": "code",
   "execution_count": 137,
   "id": "3c78498b-458b-4af1-995f-3989b029407e",
   "metadata": {},
   "outputs": [],
   "source": [
    "import psycopg2\n",
    "\n",
    "global dbName\n",
    "dbName = 'cayenaDB'\n",
    "\n",
    "def createDatabase(dbName, user = 'postgres', pwd = 'postgres'):\n",
    "    try:\n",
    "        #establishing the connection\n",
    "        conn = psycopg2.connect(\n",
    "           database=\"postgres\", user=user, password=pwd, host='127.0.0.1', port= '5432'\n",
    "        )\n",
    "        conn.autocommit = True\n",
    "\n",
    "        #Creating a cursor object using the cursor() method\n",
    "        cursor = conn.cursor()\n",
    "\n",
    "        #Preparing query to create a database\n",
    "        sql = 'CREATE database {};'.format(dbName)\n",
    "\n",
    "        #Creating a database\n",
    "        cursor.execute(sql)\n",
    "        print('Database {} was created...'.format(dbName))\n",
    "    except psycopg2.Error as e:\n",
    "        print('Database {} already exists!!'.format(dbName))\n",
    "        \n",
    "def insertData(inputData, dbName, user = 'postgres', pwd = 'postgres'):\n",
    "    \n",
    "    columns = inputData.columns.tolist()\n",
    "    columns = [each_string.lower() for each_string in columns]\n",
    "\n",
    "    sqlCreate =  \"\"\"DROP TABLE IF EXISTS books;\n",
    "                    CREATE TABLE books (\n",
    "                     {}       VARCHAR (256),\n",
    "                     {}       VARCHAR (256),\n",
    "                     {}       VARCHAR,\n",
    "                     {}       NUMERIC, \n",
    "                     {}       INTEGER, \n",
    "                     {}       INTEGER                   \n",
    "                    );\"\"\".format(columns[0], columns[1], columns[2], columns[3], columns[4], columns[5])\n",
    "    \n",
    "    books = mapAttributesFromScraping(\"./links.txt\")\n",
    "\n",
    "    booksDF = pd.DataFrame(data=books, columns=[\"BookTitle\", \"Category\", \"Description\", \"Price\", \"Rating\", \"Availability\"])\n",
    "\n",
    "    try:\n",
    "        #establishing the connection\n",
    "        conn = psycopg2.connect(\n",
    "           database=str.lower(dbName), user=user, password=pwd, host='127.0.0.1', port= '5432'\n",
    "        )\n",
    "        conn.autocommit = True\n",
    "\n",
    "        #Creating a cursor object using the cursor() method\n",
    "        cursor = conn.cursor()\n",
    "\n",
    "        #Querying SQL to create table\n",
    "        cursor.execute(sqlCreate)\n",
    "        print('Create table...'.format(dbName))\n",
    "        \n",
    "        #Querying SQL to insert data from books\n",
    "        insertedBooks = 0\n",
    "        for i in booksDF.index:\n",
    "            sqlInsert = \"\"\"INSERT INTO books VALUES('{}','{}','{}',{},{},{})\"\"\".format(booksDF.loc[i,'BookTitle'].replace(\"'\", \"''\"), \n",
    "                                                                                  booksDF.loc[i,'Category'].replace(\"'\", \"''\"), \n",
    "                                                                                  booksDF.loc[i,'Description'].replace(\"'\", \"''\"), \n",
    "                                                                                  booksDF.loc[i,'Price'], \n",
    "                                                                                  booksDF.loc[i,'Rating'],\n",
    "                                                                                  booksDF.loc[i,'Availability'])\n",
    "                        \n",
    "            try:\n",
    "                cursor = conn.cursor()\n",
    "\n",
    "                cursor.execute(sqlInsert)\n",
    "                insertedBooks+=1\n",
    "                \n",
    "            except psycopg2.Error as e:\n",
    "                print(e)\n",
    "                \n",
    "        print(\"{} Books inserted\".format(insertedBooks))\n",
    "              \n",
    "    except psycopg2.Error as e:\n",
    "            print(e)"
   ]
  },
  {
   "cell_type": "code",
   "execution_count": 138,
   "id": "8f9f503d-7e6b-4183-a9ae-aea078303839",
   "metadata": {},
   "outputs": [
    {
     "name": "stdout",
     "output_type": "stream",
     "text": [
      "Database cayenaDB already exists!!\n",
      "Data manipulation and ETL in progress...\n",
      "Create table...\n",
      "950 Books inserted\n"
     ]
    }
   ],
   "source": [
    "createDatabase(dbName)\n",
    "insertData(booksDF, dbName)"
   ]
  },
  {
   "cell_type": "markdown",
   "id": "39c1b45d-452b-44e3-8643-9ad4b3cac35c",
   "metadata": {},
   "source": [
    "## What is the average price of books by rating (in stars)?"
   ]
  },
  {
   "cell_type": "code",
   "execution_count": 141,
   "id": "b8957b17-34ae-4eb4-b2e9-72a4936cf729",
   "metadata": {},
   "outputs": [
    {
     "ename": "TypeError",
     "evalue": "'NoneType' object is not iterable",
     "output_type": "error",
     "traceback": [
      "\u001b[1;31m---------------------------------------------------------------------------\u001b[0m",
      "\u001b[1;31mTypeError\u001b[0m                                 Traceback (most recent call last)",
      "\u001b[1;32m<ipython-input-141-6ae640098a3d>\u001b[0m in \u001b[0;36m<module>\u001b[1;34m\u001b[0m\n\u001b[0;32m     21\u001b[0m \u001b[1;33m\u001b[0m\u001b[0m\n\u001b[0;32m     22\u001b[0m \u001b[1;31m## Call function given the dataframe\u001b[0m\u001b[1;33m\u001b[0m\u001b[1;33m\u001b[0m\u001b[1;33m\u001b[0m\u001b[0m\n\u001b[1;32m---> 23\u001b[1;33m \u001b[0mavgPrinceByRating\u001b[0m\u001b[1;33m(\u001b[0m\u001b[0mbooksDF\u001b[0m\u001b[1;33m)\u001b[0m\u001b[1;33m\u001b[0m\u001b[1;33m\u001b[0m\u001b[0m\n\u001b[0m",
      "\u001b[1;32m<ipython-input-141-6ae640098a3d>\u001b[0m in \u001b[0;36mavgPrinceByRating\u001b[1;34m(dbname, user, pwd)\u001b[0m\n\u001b[0;32m     14\u001b[0m                           GROUP BY Rating;\"\"\".format(dbname))\n\u001b[0;32m     15\u001b[0m \u001b[1;33m\u001b[0m\u001b[0m\n\u001b[1;32m---> 16\u001b[1;33m     \u001b[1;32mfor\u001b[0m \u001b[0mi\u001b[0m \u001b[1;32min\u001b[0m \u001b[0mresult\u001b[0m\u001b[1;33m:\u001b[0m\u001b[1;33m\u001b[0m\u001b[1;33m\u001b[0m\u001b[0m\n\u001b[0m\u001b[0;32m     17\u001b[0m         \u001b[0mprint\u001b[0m\u001b[1;33m(\u001b[0m\u001b[0mi\u001b[0m\u001b[1;33m)\u001b[0m\u001b[1;33m\u001b[0m\u001b[1;33m\u001b[0m\u001b[0m\n\u001b[0;32m     18\u001b[0m \u001b[1;33m\u001b[0m\u001b[0m\n",
      "\u001b[1;31mTypeError\u001b[0m: 'NoneType' object is not iterable"
     ]
    }
   ],
   "source": [
    "def avgPrinceByRating(dbname = 'cayenadb', user = 'postgres', pwd = 'postgres'):\n",
    "    \n",
    "    conn = psycopg2.connect(\n",
    "       database=str.lower(dbName), user=user, password=pwd, host='127.0.0.1', port= '5432'\n",
    "    )\n",
    "    conn.autocommit = True\n",
    "\n",
    "    #Creating a cursor object using the cursor() method\n",
    "    cursor = conn.cursor()\n",
    "\n",
    "    #Querying SQL to create table\n",
    "    result = cursor.execute(\"\"\"SELECT Rating, ROUND(AVG(price),2) as \"AVG Price (£)\" \n",
    "                          FROM books\n",
    "                          GROUP BY Rating;\"\"\".format(dbname))\n",
    "                            \n",
    "    for i in result:\n",
    "        print(i)\n",
    "    \n",
    "    \n",
    "    return result\n",
    "\n",
    "## Call function given the dataframe \n",
    "avgPrinceByRating(booksDF)"
   ]
  },
  {
   "cell_type": "markdown",
   "id": "919a3756-d95d-4666-82e4-55279083506f",
   "metadata": {},
   "source": [
    "## How many books have 2 or less copies on a specific day?"
   ]
  },
  {
   "cell_type": "code",
   "execution_count": 27,
   "id": "5093df02-684c-42c8-9932-113fd84cbb9f",
   "metadata": {},
   "outputs": [
    {
     "data": {
      "text/html": [
       "<div>\n",
       "<style scoped>\n",
       "    .dataframe tbody tr th:only-of-type {\n",
       "        vertical-align: middle;\n",
       "    }\n",
       "\n",
       "    .dataframe tbody tr th {\n",
       "        vertical-align: top;\n",
       "    }\n",
       "\n",
       "    .dataframe thead th {\n",
       "        text-align: right;\n",
       "    }\n",
       "</style>\n",
       "<table border=\"1\" class=\"dataframe\">\n",
       "  <thead>\n",
       "    <tr style=\"text-align: right;\">\n",
       "      <th></th>\n",
       "      <th>Currency Date</th>\n",
       "      <th>Books have 2 or less copies</th>\n",
       "    </tr>\n",
       "  </thead>\n",
       "  <tbody>\n",
       "    <tr>\n",
       "      <th>0</th>\n",
       "      <td>2022-05-18</td>\n",
       "      <td>106</td>\n",
       "    </tr>\n",
       "  </tbody>\n",
       "</table>\n",
       "</div>"
      ],
      "text/plain": [
       "  Currency Date  Books have 2 or less copies\n",
       "0    2022-05-18                          106"
      ]
     },
     "execution_count": 27,
     "metadata": {},
     "output_type": "execute_result"
    }
   ],
   "source": [
    "def amountCopiesBooks(booksTable):\n",
    "    result = sqldf(\"\"\"SELECT  DATE() AS \"Currency Date\", COUNT(*) as \"Books have 2 or less copies\"\n",
    "                        FROM booksTable \n",
    "                        WHERE Availability <=2 \n",
    "                        \"\"\")\n",
    "    \n",
    "    return result\n",
    "\n",
    "## Call function given the dataframe \n",
    "amountCopiesBooks(booksDF)"
   ]
  },
  {
   "cell_type": "code",
   "execution_count": null,
   "id": "cd9ea64c-ea49-45bc-94fe-0402717120ed",
   "metadata": {},
   "outputs": [],
   "source": [
    "## How many books copies "
   ]
  }
 ],
 "metadata": {
  "kernelspec": {
   "display_name": "Python 3",
   "language": "python",
   "name": "python3"
  },
  "language_info": {
   "codemirror_mode": {
    "name": "ipython",
    "version": 3
   },
   "file_extension": ".py",
   "mimetype": "text/x-python",
   "name": "python",
   "nbconvert_exporter": "python",
   "pygments_lexer": "ipython3",
   "version": "3.8.11"
  }
 },
 "nbformat": 4,
 "nbformat_minor": 5
}
